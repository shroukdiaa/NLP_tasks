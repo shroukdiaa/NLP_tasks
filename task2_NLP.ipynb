{
  "nbformat": 4,
  "nbformat_minor": 0,
  "metadata": {
    "colab": {
      "provenance": [],
      "authorship_tag": "ABX9TyMbXPAS5/BnuQU1vJq/vLkI",
      "include_colab_link": true
    },
    "kernelspec": {
      "name": "python3",
      "display_name": "Python 3"
    },
    "language_info": {
      "name": "python"
    }
  },
  "cells": [
    {
      "cell_type": "markdown",
      "metadata": {
        "id": "view-in-github",
        "colab_type": "text"
      },
      "source": [
        "<a href=\"https://colab.research.google.com/github/shroukdiaa/NLP_tasks/blob/main/task2_NLP.ipynb\" target=\"_parent\"><img src=\"https://colab.research.google.com/assets/colab-badge.svg\" alt=\"Open In Colab\"/></a>"
      ]
    },
    {
      "cell_type": "code",
      "execution_count": 18,
      "metadata": {
        "id": "uu9EIhPf_SWE"
      },
      "outputs": [],
      "source": [
        "import nltk\n",
        "import re\n",
        "from nltk.corpus import stopwords\n",
        "from nltk.tokenize import sent_tokenize"
      ]
    },
    {
      "cell_type": "markdown",
      "source": [
        "# Download\n"
      ],
      "metadata": {
        "id": "jXQ0Of5vDov3"
      }
    },
    {
      "cell_type": "code",
      "source": [
        "nltk.download('stopwords')\n",
        "nltk.download('punkt')\n"
      ],
      "metadata": {
        "colab": {
          "base_uri": "https://localhost:8080/"
        },
        "id": "5xpi2XQ8Dgoa",
        "outputId": "64420bd6-01f6-484d-8569-a4404bb0a389"
      },
      "execution_count": 19,
      "outputs": [
        {
          "output_type": "stream",
          "name": "stderr",
          "text": [
            "[nltk_data] Downloading package stopwords to /root/nltk_data...\n",
            "[nltk_data]   Package stopwords is already up-to-date!\n",
            "[nltk_data] Downloading package punkt to /root/nltk_data...\n",
            "[nltk_data]   Package punkt is already up-to-date!\n"
          ]
        },
        {
          "output_type": "execute_result",
          "data": {
            "text/plain": [
              "True"
            ]
          },
          "metadata": {},
          "execution_count": 19
        }
      ]
    },
    {
      "cell_type": "markdown",
      "source": [
        "# Sample text for demonstration"
      ],
      "metadata": {
        "id": "LV4V3GrJDy_g"
      }
    },
    {
      "cell_type": "code",
      "source": [
        "text_data = \"\"\"\n",
        "    Natural language processing: is a branch of computer science and\n",
        "artificial intelligence (AI) that allows computers to understand\n",
        "human language as text or speech.\n",
        "Applications of NLP techniques: include voice assistants like\n",
        "Amazon’s Alexa and Apple’s Siri, but also things like machine\n",
        "translation and Google Assistant.\n",
        "This is a sample text. It contains several sentences, some punctuation marks,\n",
        "    and various stopwords. Let's see how well our cleaning functions work!\n",
        "\"\"\""
      ],
      "metadata": {
        "id": "J7z11_-QDgU6"
      },
      "execution_count": 20,
      "outputs": []
    },
    {
      "cell_type": "markdown",
      "source": [
        "# Define cleaning functions\n"
      ],
      "metadata": {
        "id": "PNxJ7Pw9EMos"
      }
    },
    {
      "cell_type": "markdown",
      "source": [
        "# 1. First Function remove punctuation"
      ],
      "metadata": {
        "id": "iwPJqtbBD9kw"
      }
    },
    {
      "cell_type": "code",
      "source": [
        "def remove_punctuation(sentence):\n",
        "    return re.sub(r'[^\\w\\s]', '', sentence)\n"
      ],
      "metadata": {
        "id": "J9eN_WqEEQfS"
      },
      "execution_count": 21,
      "outputs": []
    },
    {
      "cell_type": "markdown",
      "source": [
        "# 2. Second Function lowecase"
      ],
      "metadata": {
        "id": "xvgajcEfEZ_P"
      }
    },
    {
      "cell_type": "code",
      "source": [
        "def to_lowercase(sentence):\n",
        "    return sentence.lower()"
      ],
      "metadata": {
        "id": "FDc6obGbE8u-"
      },
      "execution_count": 22,
      "outputs": []
    },
    {
      "cell_type": "markdown",
      "source": [
        "# 3. Third Function remove stopwrds"
      ],
      "metadata": {
        "id": "Dc3mSnPtFDTg"
      }
    },
    {
      "cell_type": "code",
      "source": [
        "def remove_stopwords(sentence):\n",
        "    stop_words = set(stopwords.words('english'))\n",
        "    words = sentence.split()\n",
        "    return ' '.join(word for word in words if word not in stop_words)\n"
      ],
      "metadata": {
        "id": "X10rsWbDDgRV"
      },
      "execution_count": 23,
      "outputs": []
    },
    {
      "cell_type": "markdown",
      "source": [
        "# Apply functions on each sentence\n"
      ],
      "metadata": {
        "id": "tpaKMbFAFcoG"
      }
    },
    {
      "cell_type": "code",
      "source": [
        "processed_sentences = []\n",
        "for sentence in sent_tokenize(text_data):\n",
        "    cleaned_sentence = remove_punctuation(sentence)\n",
        "    cleaned_sentence = to_lowercase(cleaned_sentence)\n",
        "    cleaned_sentence = remove_stopwords(cleaned_sentence)\n",
        "    processed_sentences.append(cleaned_sentence)\n"
      ],
      "metadata": {
        "id": "ojAydQZbDgOl"
      },
      "execution_count": 24,
      "outputs": []
    },
    {
      "cell_type": "markdown",
      "source": [
        "# Display processed sentences\n"
      ],
      "metadata": {
        "id": "XzaymbKdF2Sy"
      }
    },
    {
      "cell_type": "code",
      "source": [
        "for i, sentence in enumerate(processed_sentences, 1):\n",
        "    print(f\"Sentence {i}: {sentence}\")"
      ],
      "metadata": {
        "colab": {
          "base_uri": "https://localhost:8080/"
        },
        "id": "UnJ9BIb-DgLw",
        "outputId": "08a236da-2dc3-471f-811d-108d2bce98c9"
      },
      "execution_count": 25,
      "outputs": [
        {
          "output_type": "stream",
          "name": "stdout",
          "text": [
            "Sentence 1: natural language processing branch computer science artificial intelligence ai allows computers understand human language text speech\n",
            "Sentence 2: applications nlp techniques include voice assistants like amazons alexa apples siri also things like machine translation google assistant\n",
            "Sentence 3: sample text\n",
            "Sentence 4: contains several sentences punctuation marks various stopwords\n",
            "Sentence 5: lets see well cleaning functions work\n"
          ]
        }
      ]
    },
    {
      "cell_type": "code",
      "source": [],
      "metadata": {
        "id": "3oP0Xj-0F90_"
      },
      "execution_count": 25,
      "outputs": []
    }
  ]
}